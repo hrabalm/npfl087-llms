{
 "cells": [
  {
   "cell_type": "code",
   "execution_count": 12,
   "metadata": {},
   "outputs": [],
   "source": [
    "from pathlib import Path\n",
    "from typing import Iterable\n",
    "from datasets import Dataset"
   ]
  },
  {
   "cell_type": "code",
   "execution_count": 13,
   "metadata": {},
   "outputs": [],
   "source": [
    "def create_dataset(\n",
    "    data: Iterable[tuple[str, str]], source_lang: str, target_lang: str\n",
    "):\n",
    "    def gen():\n",
    "        for source, target in data:\n",
    "            yield {\n",
    "                \"source_lang\": source_lang,\n",
    "                \"target_lang\": target_lang,\n",
    "                \"source_text\": source,\n",
    "                \"target_text\": target,\n",
    "            }\n",
    "\n",
    "    dataset = Dataset.from_generator(gen)\n",
    "    # also see Dataset.from_dict, and other from_* methods\n",
    "    return dataset"
   ]
  },
  {
   "cell_type": "code",
   "execution_count": 14,
   "metadata": {},
   "outputs": [],
   "source": [
    "def read_lines(path: Path):\n",
    "    for line in path.open(\"r\", encoding=\"utf-8\"):\n",
    "        yield line.strip()\n",
    "\n",
    "eng = list(read_lines(Path(\"data/small.eng\")))\n",
    "ces = list(read_lines(Path(\"data/small.ces\")))\n",
    "\n",
    "dataset = create_dataset(zip(eng, ces), \"English\", \"Czech\")"
   ]
  },
  {
   "cell_type": "code",
   "execution_count": 15,
   "metadata": {},
   "outputs": [
    {
     "name": "stderr",
     "output_type": "stream",
     "text": [
      "Saving the dataset (1/1 shards): 100%|████████████████████████████████████| 1000/1000 [00:00<00:00, 66785.09 examples/s]\n",
      "Creating parquet from Arrow format: 100%|████████████████████████████████████████████████| 1/1 [00:00<00:00, 390.57ba/s]\n",
      "Uploading the dataset shards: 100%|███████████████████████████████████████████████████████| 1/1 [00:00<00:00,  3.93it/s]\n"
     ]
    },
    {
     "data": {
      "text/plain": [
       "CommitInfo(commit_url='https://huggingface.co/datasets/hrabalm/npfl087-demo-small/commit/5507b5e3b7c94cbffb052f35e44a6b6f1ccef646', commit_message='Upload dataset', commit_description='', oid='5507b5e3b7c94cbffb052f35e44a6b6f1ccef646', pr_url=None, pr_revision=None, pr_num=None)"
      ]
     },
     "execution_count": 15,
     "metadata": {},
     "output_type": "execute_result"
    }
   ],
   "source": [
    "name = \"npfl087-demo-small\"\n",
    "dataset.save_to_disk(f\"~/datasets/{name}\")\n",
    "dataset.push_to_hub(f\"hrabalm/{name}\", private=True)"
   ]
  }
 ],
 "metadata": {
  "kernelspec": {
   "display_name": "Python 3 (ipykernel)",
   "language": "python",
   "name": "python3"
  },
  "language_info": {
   "codemirror_mode": {
    "name": "ipython",
    "version": 3
   },
   "file_extension": ".py",
   "mimetype": "text/x-python",
   "name": "python",
   "nbconvert_exporter": "python",
   "pygments_lexer": "ipython3",
   "version": "3.10.13"
  }
 },
 "nbformat": 4,
 "nbformat_minor": 2
}
