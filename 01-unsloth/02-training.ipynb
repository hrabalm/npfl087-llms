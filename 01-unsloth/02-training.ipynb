{
 "cells": [
  {
   "cell_type": "markdown",
   "metadata": {},
   "source": [
    "## Prompt formatting utilities"
   ]
  },
  {
   "cell_type": "markdown",
   "metadata": {},
   "source": [
    "Simple helper functions to format prompts later on:"
   ]
  },
  {
   "cell_type": "code",
   "execution_count": 1,
   "metadata": {},
   "outputs": [],
   "source": [
    "template = \"\"\"{source_lang}: {source_text}\n",
    "{target_lang}: {target_text}\"\"\"\n",
    "\n",
    "def apply_prompt(training=False, eos_token=None, **kwargs):\n",
    "    # note: we strip because of potential trailing whitespace\n",
    "    # we also provide a default value for target_text so that it can be omitted\n",
    "    return template.format(**{\"target_text\": \"\", **kwargs}).strip() + (\"\" if not training or eos_token is None else eos_token)\n",
    "\n",
    "def apply_prompt_n_shot(examples, n: int, eos_token: str, **kwargs):\n",
    "    return (eos_token + \"\\n\\n\").join(\n",
    "        [apply_prompt(**{\"target_text\": \"\", **example}) for example in examples[:n]] + [apply_prompt(**kwargs)]\n",
    "    )\n",
    "\n",
    "EXAMPLE_SENTENCES = [\n",
    "    {\n",
    "        \"source_lang\": \"English\",\n",
    "        \"target_lang\": \"Czech\",\n",
    "        \"source_text\": \"I am sorry to hear that.\",\n",
    "        \"target_text\": \"To je mi líto.\",\n",
    "    },\n",
    "    {\n",
    "        \"source_lang\": \"English\",\n",
    "        \"target_lang\": \"Czech\",\n",
    "        \"source_text\": \"How much does it cost?\",\n",
    "        \"target_text\": \"Kolik to stojí?\",\n",
    "    },\n",
    "    {\n",
    "        \"source_lang\": \"English\",\n",
    "        \"target_lang\": \"Czech\",\n",
    "        \"source_text\": \"Prague is the capital of the Czech Republic.\",\n",
    "        \"target_text\": \"Praha je hlavní město České republiky.\",\n",
    "    },\n",
    "    {\n",
    "        \"source_lang\": \"English\",\n",
    "        \"target_lang\": \"Czech\",\n",
    "        \"source_text\": \"Pay attention to the road.\",\n",
    "        \"target_text\": \"Dávej pozor na silnici.\",\n",
    "    },\n",
    "    {\n",
    "        \"source_lang\": \"English\",\n",
    "        \"target_lang\": \"Czech\",\n",
    "        \"source_text\": \"I have a headache.\",\n",
    "        \"target_text\": \"Bolí mě hlava.\",\n",
    "    }\n",
    "]"
   ]
  },
  {
   "cell_type": "code",
   "execution_count": 2,
   "metadata": {},
   "outputs": [
    {
     "name": "stdout",
     "output_type": "stream",
     "text": [
      "English: Hello.\n",
      "Czech:\n"
     ]
    }
   ],
   "source": [
    "print(apply_prompt(source_lang=\"English\", source_text=\"Hello.\", target_lang=\"Czech\"))"
   ]
  },
  {
   "cell_type": "code",
   "execution_count": 3,
   "metadata": {},
   "outputs": [
    {
     "name": "stdout",
     "output_type": "stream",
     "text": [
      "English: Hello.\n",
      "Czech: Ahoj.</s>\n"
     ]
    }
   ],
   "source": [
    "print(apply_prompt(source_lang=\"English\", source_text=\"Hello.\", target_lang=\"Czech\", target_text=\"Ahoj.\", eos_token=\"</s>\", training=True))"
   ]
  },
  {
   "cell_type": "code",
   "execution_count": 4,
   "metadata": {},
   "outputs": [
    {
     "name": "stdout",
     "output_type": "stream",
     "text": [
      "English: I am sorry to hear that.\n",
      "Czech: To je mi líto.</s>\n",
      "\n",
      "English: How much does it cost?\n",
      "Czech: Kolik to stojí?</s>\n",
      "\n",
      "English: Prague is the capital of the Czech Republic.\n",
      "Czech: Praha je hlavní město České republiky.</s>\n",
      "\n",
      "English: Pay attention to the road.\n",
      "Czech: Dávej pozor na silnici.</s>\n",
      "\n",
      "English: I have a headache.\n",
      "Czech: Bolí mě hlava.</s>\n",
      "\n",
      "English: Hello.\n",
      "Czech:\n"
     ]
    }
   ],
   "source": [
    "print(apply_prompt_n_shot(EXAMPLE_SENTENCES, 5, \"</s>\", source_lang=\"English\", source_text=\"Hello.\", target_lang=\"Czech\"))"
   ]
  },
  {
   "cell_type": "code",
   "execution_count": 5,
   "metadata": {},
   "outputs": [
    {
     "name": "stdout",
     "output_type": "stream",
     "text": [
      "English: I am sorry to hear that.\n",
      "Czech: To je mi líto.</s>\n",
      "\n",
      "English: How much does it cost?\n",
      "Czech: Kolik to stojí?</s>\n",
      "\n",
      "English: Prague is the capital of the Czech Republic.\n",
      "Czech: Praha je hlavní město České republiky.</s>\n",
      "\n",
      "English: Pay attention to the road.\n",
      "Czech: Dávej pozor na silnici.</s>\n",
      "\n",
      "English: I have a headache.\n",
      "Czech: Bolí mě hlava.</s>\n",
      "\n",
      "English: Hello.\n",
      "Czech: Ahoj.\n"
     ]
    }
   ],
   "source": [
    "\n",
    "print(apply_prompt_n_shot(EXAMPLE_SENTENCES, 5, \"</s>\", source_lang=\"English\", source_text=\"Hello.\", target_lang=\"Czech\", target_text=\"Ahoj.\"))"
   ]
  },
  {
   "cell_type": "code",
   "execution_count": 6,
   "metadata": {},
   "outputs": [
    {
     "name": "stderr",
     "output_type": "stream",
     "text": [
      "/storage/praha1/home/hrabalm/envs/unsloth/lib/python3.10/site-packages/tqdm/auto.py:21: TqdmWarning: IProgress not found. Please update jupyter and ipywidgets. See https://ipywidgets.readthedocs.io/en/stable/user_install.html\n",
      "  from .autonotebook import tqdm as notebook_tqdm\n",
      "/storage/praha1/home/hrabalm/envs/unsloth/lib/python3.10/site-packages/unsloth/__init__.py:22: UserWarning: Unsloth: 'CUDA_VISIBLE_DEVICES' is currently GPU-ac1f219e-b1e3-4d65-f3ac-959b862fdd5a but we require 'CUDA_VISIBLE_DEVICES=0'\n",
      "We shall set it ourselves.\n",
      "  warnings.warn(\n"
     ]
    }
   ],
   "source": [
    "import torch\n",
    "from transformers import TrainingArguments\n",
    "from trl import SFTTrainer\n",
    "from unsloth import FastLanguageModel"
   ]
  },
  {
   "cell_type": "markdown",
   "metadata": {},
   "source": [
    "## Load the base model"
   ]
  },
  {
   "cell_type": "code",
   "execution_count": 7,
   "metadata": {},
   "outputs": [
    {
     "name": "stdout",
     "output_type": "stream",
     "text": [
      "==((====))==  Unsloth: Fast Mistral patching release 2024.3\n",
      "   \\\\   /|    GPU: Tesla T4. Max memory: 14.581 GB. Platform = Linux.\n",
      "O^O/ \\_/ \\    Pytorch: 2.2.0. CUDA = 7.5. CUDA Toolkit = 12.1.\n",
      "\\        /    Bfloat16 = FALSE. Xformers = 0.0.24. FA = False.\n",
      " \"-____-\"     Free Apache license: http://github.com/unslothai/unsloth\n"
     ]
    },
    {
     "name": "stderr",
     "output_type": "stream",
     "text": [
      "/storage/praha1/home/hrabalm/envs/unsloth/lib/python3.10/site-packages/transformers/quantizers/auto.py:155: UserWarning: You passed `quantization_config` or equivalent parameters to `from_pretrained` but the model you're loading already has a `quantization_config` attribute. The `quantization_config` from the model will be used.\n",
      "  warnings.warn(warning_msg)\n"
     ]
    }
   ],
   "source": [
    "model, tokenizer = FastLanguageModel.from_pretrained(\n",
    "    model_name=\"unsloth/mistral-7b-bnb-4bit\",\n",
    "    max_seq_length=4096,\n",
    "    load_in_4bit=True,\n",
    ")"
   ]
  },
  {
   "cell_type": "code",
   "execution_count": 8,
   "metadata": {},
   "outputs": [
    {
     "name": "stderr",
     "output_type": "stream",
     "text": [
      "Setting `pad_token_id` to `eos_token_id`:2 for open-end generation.\n"
     ]
    },
    {
     "name": "stdout",
     "output_type": "stream",
     "text": [
      "English: Information about training algorithms, parameters, fairness constraints or other applied approaches, and features.\n",
      "Czech:\n"
     ]
    },
    {
     "data": {
      "text/plain": [
       "['<s> English: Information about training algorithms, parameters, fairness constraints or other applied approaches, and features.\\nCzech: Informace o algoritmech trénování, parametrech, omezeních spravedlnosti nebo o jiných přístupy a o atributech.\\n\\n## Training algorithms\\n\\n### Algorithms\\n\\n- `sklearn.linear_model.LogisticRegression`\\n- `sklearn.linear_model.LogisticRegressionCV`\\n- `sklearn.linear_model.LogisticRegressionCV`\\n- `sklearn.linear_model.LogisticRegressionCV`\\n- `sklearn.linear_model.Log']"
      ]
     },
     "execution_count": 8,
     "metadata": {},
     "output_type": "execute_result"
    }
   ],
   "source": [
    "FastLanguageModel.for_inference(model)\n",
    "sentence = \"Information about training algorithms, parameters, fairness constraints or other applied approaches, and features.\"\n",
    "prompt = apply_prompt(source_lang=\"English\", source_text=sentence, target_lang=\"Czech\")\n",
    "print(prompt)\n",
    "inputs = tokenizer(\n",
    "    prompt,\n",
    "    return_tensors=\"pt\",\n",
    ").to(\"cuda\")\n",
    "outputs = model.generate(**inputs, max_new_tokens=128, use_cache=True)\n",
    "tokenizer.batch_decode(outputs)"
   ]
  },
  {
   "cell_type": "code",
   "execution_count": 9,
   "metadata": {},
   "outputs": [
    {
     "name": "stderr",
     "output_type": "stream",
     "text": [
      "Setting `pad_token_id` to `eos_token_id`:2 for open-end generation.\n"
     ]
    },
    {
     "name": "stdout",
     "output_type": "stream",
     "text": [
      "English: I am sorry to hear that.\n",
      "Czech: To je mi líto.</s>\n",
      "\n",
      "English: How much does it cost?\n",
      "Czech: Kolik to stojí?</s>\n",
      "\n",
      "English: Prague is the capital of the Czech Republic.\n",
      "Czech: Praha je hlavní město České republiky.</s>\n",
      "\n",
      "English: Pay attention to the road.\n",
      "Czech: Dávej pozor na silnici.</s>\n",
      "\n",
      "English: I have a headache.\n",
      "Czech: Bolí mě hlava.</s>\n",
      "\n",
      "English: Information about training algorithms, parameters, fairness constraints or other applied approaches, and features.\n",
      "Czech:\n"
     ]
    },
    {
     "data": {
      "text/plain": [
       "['<s> English: I am sorry to hear that.\\nCzech: To je mi líto.</s> \\n\\nEnglish: How much does it cost?\\nCzech: Kolik to stojí?</s> \\n\\nEnglish: Prague is the capital of the Czech Republic.\\nCzech: Praha je hlavní město České republiky.</s> \\n\\nEnglish: Pay attention to the road.\\nCzech: Dávej pozor na silnici.</s> \\n\\nEnglish: I have a headache.\\nCzech: Bolí mě hlava.</s> \\n\\nEnglish: Information about training algorithms, parameters, fairness constraints or other applied approaches, and features.\\nCzech: Informace o algoritmech, parametrech, omezeních na spravedlnost nebo o jiných přístupech a o funkcích. industries.\\n\\nEnglish: I am sorry to hear that.\\nCzech: To je mi líto.\\n\\nEnglish: How much does it cost?\\nCzech: Kolik to stojí?\\n\\nEnglish: Prague is the capital of the Czech Republic.\\nCzech: Praha je hlavní město České republiky.\\n\\nEnglish: Pay attention to the road.\\nCzech: Dávej pozor na silnici.\\n\\nEnglish: I have a headache.\\nCzech: Bolí mě hlava.\\n\\nEnglish: Information about training algorithms, parameters, fairness constraints or other applied approaches, and features.\\nCzech: Informace o algoritmech, parametrech, omezeních na spravedlnost nebo o jiných přístupech a o funkcích.\\n\\nEnglish: I am sorry to hear that.\\nCzech: To je mi líto.\\n\\nEnglish']"
      ]
     },
     "execution_count": 9,
     "metadata": {},
     "output_type": "execute_result"
    }
   ],
   "source": [
    "prompt = apply_prompt_n_shot(EXAMPLE_SENTENCES, 5, eos_token=tokenizer.eos_token, source_lang=\"English\", source_text=sentence, target_lang=\"Czech\")\n",
    "print(prompt)\n",
    "inputs = tokenizer(\n",
    "    prompt,\n",
    "    return_tensors=\"pt\",\n",
    ").to(\"cuda\")\n",
    "outputs = model.generate(**inputs, max_new_tokens=256, use_cache=True)\n",
    "tokenizer.batch_decode(outputs)"
   ]
  },
  {
   "cell_type": "markdown",
   "metadata": {},
   "source": [
    "## LoRa Adapters"
   ]
  },
  {
   "cell_type": "code",
   "execution_count": 10,
   "metadata": {},
   "outputs": [
    {
     "name": "stderr",
     "output_type": "stream",
     "text": [
      "Unsloth 2024.3 patched 32 layers with 32 QKV layers, 32 O layers and 32 MLP layers.\n"
     ]
    }
   ],
   "source": [
    "model = FastLanguageModel.get_peft_model(\n",
    "    model,\n",
    "    r=16,\n",
    "    lora_alpha=16,\n",
    "    target_modules=[\n",
    "        \"q_proj\",\n",
    "        \"k_proj\",\n",
    "        \"v_proj\",\n",
    "        \"o_proj\",\n",
    "        \"gate_proj\",\n",
    "        \"up_proj\",\n",
    "        \"down_proj\",\n",
    "    ],\n",
    "    lora_dropout=0,  # 0 is optimized (unsloth)\n",
    "    bias=\"none\",  # \"none\" is optimized (unsloth)\n",
    "    use_gradient_checkpointing=True,\n",
    "    random_state=42,\n",
    "    use_rslora=False,  # rank stabilized LoRA\n",
    "    loftq_config=None,  # LoftQ\n",
    ")"
   ]
  },
  {
   "cell_type": "markdown",
   "metadata": {},
   "source": [
    "## Load dataset"
   ]
  },
  {
   "cell_type": "code",
   "execution_count": 11,
   "metadata": {},
   "outputs": [],
   "source": [
    "from datasets import load_dataset\n",
    "\n",
    "def formatting_prompts_func(examples):\n",
    "    # dict of lists to list of dicts\n",
    "    examples = [dict(zip(examples, t)) for t in zip(*examples.values())]\n",
    "    texts = []\n",
    "    for example in examples:\n",
    "        text = (\n",
    "            apply_prompt(training=True, eos_token=tokenizer.eos_token, **example)\n",
    "            # + EOS_TOKEN  # FIXME: remove from apply_prompt and do here explicitly\n",
    "        )\n",
    "        texts.append(text)\n",
    "    return {\n",
    "        \"text\": texts,\n",
    "    }\n",
    "\n",
    "dataset_path = \"hrabalm/npfl087-demo-small\"\n",
    "# dataset_path = \"~/datasets/npfl087-demo-small\"\n",
    "dataset = load_dataset(dataset_path, split=\"train\")\n",
    "dataset = dataset.map(\n",
    "    formatting_prompts_func,\n",
    "    batched=True,\n",
    ")"
   ]
  },
  {
   "cell_type": "markdown",
   "metadata": {},
   "source": [
    "## Start training"
   ]
  },
  {
   "cell_type": "code",
   "execution_count": 12,
   "metadata": {},
   "outputs": [
    {
     "name": "stderr",
     "output_type": "stream",
     "text": [
      "/storage/praha1/home/hrabalm/envs/unsloth/lib/python3.10/site-packages/accelerate/accelerator.py:432: FutureWarning: Passing the following arguments to `Accelerator` is deprecated and will be removed in version 1.0 of Accelerate: dict_keys(['dispatch_batches', 'split_batches', 'even_batches', 'use_seedable_sampler']). Please pass an `accelerate.DataLoaderConfiguration` instead: \n",
      "dataloader_config = DataLoaderConfiguration(dispatch_batches=None, split_batches=False, even_batches=True, use_seedable_sampler=True)\n",
      "  warnings.warn(\n"
     ]
    }
   ],
   "source": [
    "trainer = SFTTrainer(\n",
    "    model=model,\n",
    "    tokenizer=tokenizer,\n",
    "    train_dataset=dataset,\n",
    "    dataset_text_field=\"text\",\n",
    "    max_seq_length=4096,\n",
    "    dataset_num_proc=2,\n",
    "    packing=True,  # Unsloth claim: \"can make training 5x faster for short sequences.\"\n",
    "    args=TrainingArguments(\n",
    "        per_device_train_batch_size=2,\n",
    "        num_train_epochs=2,\n",
    "        gradient_accumulation_steps=4,\n",
    "        warmup_steps=5,\n",
    "        learning_rate=2e-4,\n",
    "        fp16=not torch.cuda.is_bf16_supported(),\n",
    "        bf16=torch.cuda.is_bf16_supported(),\n",
    "        logging_steps=1,\n",
    "        optim=\"adamw_8bit\",\n",
    "        weight_decay=0.01,\n",
    "        lr_scheduler_type=\"linear\",\n",
    "        seed=42,\n",
    "        output_dir=\"outputs\",\n",
    "    ),\n",
    ")"
   ]
  },
  {
   "cell_type": "code",
   "execution_count": 13,
   "metadata": {},
   "outputs": [
    {
     "name": "stdout",
     "output_type": "stream",
     "text": [
      "GPU = Tesla T4. Max memory = 14.581 GB.\n",
      "5.004 GB of memory reserved.\n"
     ]
    },
    {
     "name": "stderr",
     "output_type": "stream",
     "text": [
      "==((====))==  Unsloth - 2x faster free finetuning | Num GPUs = 1\n",
      "   \\\\   /|    Num examples = 26 | Num Epochs = 2\n",
      "O^O/ \\_/ \\    Batch size per device = 2 | Gradient Accumulation steps = 4\n",
      "\\        /    Total batch size = 8 | Total steps = 6\n",
      " \"-____-\"     Number of trainable parameters = 41,943,040\n",
      "Failed to detect the name of this notebook, you can set it manually with the WANDB_NOTEBOOK_NAME environment variable to enable code saving.\n",
      "\u001b[34m\u001b[1mwandb\u001b[0m: Currently logged in as: \u001b[33mhrabalm\u001b[0m. Use \u001b[1m`wandb login --relogin`\u001b[0m to force relogin\n"
     ]
    },
    {
     "data": {
      "text/html": [
       "Tracking run with wandb version 0.16.4"
      ],
      "text/plain": [
       "<IPython.core.display.HTML object>"
      ]
     },
     "metadata": {},
     "output_type": "display_data"
    },
    {
     "data": {
      "text/html": [
       "Run data is saved locally in <code>/auto/vestec1-elixir/home/hrabalm/wandb/run-20240314_181816-92gida28</code>"
      ],
      "text/plain": [
       "<IPython.core.display.HTML object>"
      ]
     },
     "metadata": {},
     "output_type": "display_data"
    },
    {
     "data": {
      "text/html": [
       "Syncing run <strong><a href='https://wandb.ai/hrabalm/huggingface/runs/92gida28' target=\"_blank\">berry-brulee-4</a></strong> to <a href='https://wandb.ai/hrabalm/huggingface' target=\"_blank\">Weights & Biases</a> (<a href='https://wandb.me/run' target=\"_blank\">docs</a>)<br/>"
      ],
      "text/plain": [
       "<IPython.core.display.HTML object>"
      ]
     },
     "metadata": {},
     "output_type": "display_data"
    },
    {
     "data": {
      "text/html": [
       " View project at <a href='https://wandb.ai/hrabalm/huggingface' target=\"_blank\">https://wandb.ai/hrabalm/huggingface</a>"
      ],
      "text/plain": [
       "<IPython.core.display.HTML object>"
      ]
     },
     "metadata": {},
     "output_type": "display_data"
    },
    {
     "data": {
      "text/html": [
       " View run at <a href='https://wandb.ai/hrabalm/huggingface/runs/92gida28' target=\"_blank\">https://wandb.ai/hrabalm/huggingface/runs/92gida28</a>"
      ],
      "text/plain": [
       "<IPython.core.display.HTML object>"
      ]
     },
     "metadata": {},
     "output_type": "display_data"
    },
    {
     "data": {
      "text/html": [
       "\n",
       "    <div>\n",
       "      \n",
       "      <progress value='6' max='6' style='width:300px; height:20px; vertical-align: middle;'></progress>\n",
       "      [6/6 07:23, Epoch 1/2]\n",
       "    </div>\n",
       "    <table border=\"1\" class=\"dataframe\">\n",
       "  <thead>\n",
       " <tr style=\"text-align: left;\">\n",
       "      <th>Step</th>\n",
       "      <th>Training Loss</th>\n",
       "    </tr>\n",
       "  </thead>\n",
       "  <tbody>\n",
       "    <tr>\n",
       "      <td>1</td>\n",
       "      <td>1.756100</td>\n",
       "    </tr>\n",
       "    <tr>\n",
       "      <td>2</td>\n",
       "      <td>2.030200</td>\n",
       "    </tr>\n",
       "    <tr>\n",
       "      <td>3</td>\n",
       "      <td>1.600700</td>\n",
       "    </tr>\n",
       "    <tr>\n",
       "      <td>4</td>\n",
       "      <td>1.542900</td>\n",
       "    </tr>\n",
       "    <tr>\n",
       "      <td>5</td>\n",
       "      <td>1.298400</td>\n",
       "    </tr>\n",
       "    <tr>\n",
       "      <td>6</td>\n",
       "      <td>1.262200</td>\n",
       "    </tr>\n",
       "  </tbody>\n",
       "</table><p>"
      ],
      "text/plain": [
       "<IPython.core.display.HTML object>"
      ]
     },
     "metadata": {},
     "output_type": "display_data"
    },
    {
     "name": "stdout",
     "output_type": "stream",
     "text": [
      "537.1551 seconds used for training.\n",
      "8.95 minutes used for training.\n",
      "Peak reserved memory = 10.002 GB.\n",
      "Peak reserved memory % of max memory = 68.596 %.\n"
     ]
    }
   ],
   "source": [
    "# These stats are copied from the unsloth colab example notebook\n",
    "# Show current memory stats\n",
    "gpu_stats = torch.cuda.get_device_properties(0)\n",
    "start_gpu_memory = round(torch.cuda.max_memory_reserved() / 1024 / 1024 / 1024, 3)\n",
    "max_memory = round(gpu_stats.total_memory / 1024 / 1024 / 1024, 3)\n",
    "print(f\"GPU = {gpu_stats.name}. Max memory = {max_memory} GB.\")\n",
    "print(f\"{start_gpu_memory} GB of memory reserved.\")\n",
    "\n",
    "trainer_stats = trainer.train()\n",
    "\n",
    "# Show final memory and time stats\n",
    "used_memory = round(torch.cuda.max_memory_reserved() / 1024 / 1024 / 1024, 3)\n",
    "used_memory_for_lora = round(used_memory - start_gpu_memory, 3)\n",
    "used_percentage = round(used_memory / max_memory * 100, 3)\n",
    "lora_percentage = round(used_memory_for_lora / max_memory * 100, 3)\n",
    "print(f\"{trainer_stats.metrics['train_runtime']} seconds used for training.\")\n",
    "print(\n",
    "    f\"{round(trainer_stats.metrics['train_runtime']/60, 2)} minutes used for training.\"\n",
    ")\n",
    "print(f\"Peak reserved memory = {used_memory} GB.\")\n",
    "print(f\"Peak reserved memory % of max memory = {used_percentage} %.\")"
   ]
  },
  {
   "cell_type": "markdown",
   "metadata": {},
   "source": [
    "## Save model"
   ]
  },
  {
   "cell_type": "code",
   "execution_count": 14,
   "metadata": {},
   "outputs": [],
   "source": [
    "model.save_pretrained(\"outputs/mistral-ft-qlora\")"
   ]
  },
  {
   "cell_type": "markdown",
   "metadata": {},
   "source": [
    "## Inference"
   ]
  },
  {
   "cell_type": "code",
   "execution_count": 15,
   "metadata": {},
   "outputs": [
    {
     "name": "stderr",
     "output_type": "stream",
     "text": [
      "Setting `pad_token_id` to `eos_token_id`:2 for open-end generation.\n"
     ]
    },
    {
     "name": "stdout",
     "output_type": "stream",
     "text": [
      "English: Information about training algorithms, parameters, fairness constraints or other applied approaches, and features.\n",
      "Czech:\n"
     ]
    },
    {
     "data": {
      "text/plain": [
       "['<s> English: Information about training algorithms, parameters, fairness constraints or other applied approaches, and features.\\nCzech: Informace o algoritmech výcviku, parametrech, omezeních spravedlnosti nebo o dalších přístupech a o vlastnostech.\\n\\n## Training algorithms\\n\\n### Training algorithm\\n\\nThe training algorithm is used to train the model.\\n\\n### Training algorithm parameters\\n\\nThe training algorithm parameters are used to control the training process.\\n\\n### Fairness constraints\\n\\nFairness constraints are used to control the fairness of the model.\\n\\n### Applied approaches\\n\\nApplied approaches are used to control the applied approaches during the training process.\\n\\n### Features\\n\\nFeatures are used to control the features used during the training process.</s>']"
      ]
     },
     "execution_count": 15,
     "metadata": {},
     "output_type": "execute_result"
    }
   ],
   "source": [
    "FastLanguageModel.for_inference(model)\n",
    "sentence = \"Information about training algorithms, parameters, fairness constraints or other applied approaches, and features.\"\n",
    "\n",
    "prompt = apply_prompt(source_lang=\"English\", source_text=sentence, target_lang=\"Czech\")\n",
    "print(prompt)\n",
    "inputs = tokenizer(\n",
    "    prompt,\n",
    "    return_tensors=\"pt\",\n",
    ").to(\"cuda\")\n",
    "outputs = model.generate(**inputs, max_new_tokens=256, use_cache=True)\n",
    "tokenizer.batch_decode(outputs)"
   ]
  },
  {
   "cell_type": "code",
   "execution_count": 16,
   "metadata": {},
   "outputs": [
    {
     "name": "stderr",
     "output_type": "stream",
     "text": [
      "Setting `pad_token_id` to `eos_token_id`:2 for open-end generation.\n"
     ]
    },
    {
     "name": "stdout",
     "output_type": "stream",
     "text": [
      "English: I am sorry to hear that.\n",
      "Czech: To je mi líto.</s>\n",
      "\n",
      "English: How much does it cost?\n",
      "Czech: Kolik to stojí?</s>\n",
      "\n",
      "English: Prague is the capital of the Czech Republic.\n",
      "Czech: Praha je hlavní město České republiky.</s>\n",
      "\n",
      "English: Pay attention to the road.\n",
      "Czech: Dávej pozor na silnici.</s>\n",
      "\n",
      "English: I have a headache.\n",
      "Czech: Bolí mě hlava.</s>\n",
      "\n",
      "English: Information about training algorithms, parameters, fairness constraints or other applied approaches, and features.\n",
      "Czech:\n"
     ]
    },
    {
     "data": {
      "text/plain": [
       "['<s> English: I am sorry to hear that.\\nCzech: To je mi líto.</s> \\n\\nEnglish: How much does it cost?\\nCzech: Kolik to stojí?</s> \\n\\nEnglish: Prague is the capital of the Czech Republic.\\nCzech: Praha je hlavní město České republiky.</s> \\n\\nEnglish: Pay attention to the road.\\nCzech: Dávej pozor na silnici.</s> \\n\\nEnglish: I have a headache.\\nCzech: Bolí mě hlava.</s> \\n\\nEnglish: Information about training algorithms, parameters, fairness constraints or other applied approaches, and features.\\nCzech: Informace o algoritmech výcviku, parametrech, omezeních spravedlnosti nebo o jiných přístupech použitých a o funkcích.</s>']"
      ]
     },
     "execution_count": 16,
     "metadata": {},
     "output_type": "execute_result"
    }
   ],
   "source": [
    "prompt = apply_prompt_n_shot(EXAMPLE_SENTENCES, 5, eos_token=tokenizer.eos_token, source_lang=\"English\", source_text=sentence, target_lang=\"Czech\")\n",
    "print(prompt)\n",
    "inputs = tokenizer(\n",
    "    prompt,\n",
    "    return_tensors=\"pt\",\n",
    ").to(\"cuda\")\n",
    "outputs = model.generate(**inputs, max_new_tokens=256, use_cache=True)\n",
    "tokenizer.batch_decode(outputs)"
   ]
  }
 ],
 "metadata": {
  "kernelspec": {
   "display_name": "Python 3 (ipykernel)",
   "language": "python",
   "name": "python3"
  },
  "language_info": {
   "codemirror_mode": {
    "name": "ipython",
    "version": 3
   },
   "file_extension": ".py",
   "mimetype": "text/x-python",
   "name": "python",
   "nbconvert_exporter": "python",
   "pygments_lexer": "ipython3",
   "version": "3.10.13"
  }
 },
 "nbformat": 4,
 "nbformat_minor": 2
}
